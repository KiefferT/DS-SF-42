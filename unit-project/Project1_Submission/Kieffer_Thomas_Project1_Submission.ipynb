{
 "cells": [
  {
   "cell_type": "markdown",
   "metadata": {},
   "source": [
    "# Project 1\n",
    "\n",
    "In this first project you will create a framework to scope out data science projects. This framework will provide you with a guide to develop a well-articulated problem statement and analysis plan that will be robust and reproducible."
   ]
  },
  {
   "cell_type": "markdown",
   "metadata": {},
   "source": [
    "### Read and evaluate the following problem statement: \n",
    "Determine which free-tier customers will covert to paying customers, using demographic data collected at signup (age, gender, location, and profession) and customer useage data (days since last log in, and activity score 1 = active user, 0= inactive user) based on Hooli data from Jan-Apr 2015. \n"
   ]
  },
  {
   "cell_type": "markdown",
   "metadata": {},
   "source": [
    "#### 1. What is the outcome?"
   ]
  },
  {
   "cell_type": "markdown",
   "metadata": {},
   "source": [
    "Answer: customer conversion from free-tier to paying customer"
   ]
  },
  {
   "cell_type": "markdown",
   "metadata": {},
   "source": [
    "#### 2. What are the predictors/covariates? "
   ]
  },
  {
   "cell_type": "markdown",
   "metadata": {},
   "source": [
    "Answer: age, gender, location, profession, days since last log in, activity score"
   ]
  },
  {
   "cell_type": "markdown",
   "metadata": {},
   "source": [
    "#### 3. What timeframe is this data relevent for?"
   ]
  },
  {
   "cell_type": "markdown",
   "metadata": {},
   "source": [
    "Answer: Jan - Apr 2015"
   ]
  },
  {
   "cell_type": "markdown",
   "metadata": {},
   "source": [
    "#### 4. What is the hypothesis?"
   ]
  },
  {
   "cell_type": "markdown",
   "metadata": {},
   "source": [
    "Answer: using data collected at signup (age, gender, location, and profession) and customer useage data (days since last log in and activity score), we will be able to predict the likelihood that a customer will convert from a free-tier to a paying customer"
   ]
  },
  {
   "cell_type": "markdown",
   "metadata": {},
   "source": [
    "## Let's get started with our UCLA admissions dataset"
   ]
  },
  {
   "cell_type": "code",
   "execution_count": 1,
   "metadata": {},
   "outputs": [
    {
     "name": "stderr",
     "output_type": "stream",
     "text": [
      "/Users/kiefferthomas/anaconda2/lib/python2.7/site-packages/statsmodels/compat/pandas.py:56: FutureWarning: The pandas.core.datetools module is deprecated and will be removed in a future version. Please use the pandas.tseries module instead.\n",
      "  from pandas.core import datetools\n"
     ]
    }
   ],
   "source": [
    "import pandas as pd\n",
    "import numpy as np\n",
    "import matplotlib.pyplot as plt\n",
    "import statsmodels.api as sm\n",
    "\n",
    "%matplotlib inline"
   ]
  },
  {
   "cell_type": "code",
   "execution_count": 2,
   "metadata": {
    "collapsed": true
   },
   "outputs": [],
   "source": [
    "np.random.seed(1984)"
   ]
  },
  {
   "cell_type": "code",
   "execution_count": 3,
   "metadata": {
    "collapsed": true
   },
   "outputs": [],
   "source": [
    "df = pd.read_csv(\"admissions.csv\")"
   ]
  },
  {
   "cell_type": "markdown",
   "metadata": {},
   "source": [
    "#### 1. Create a data dictionary "
   ]
  },
  {
   "cell_type": "markdown",
   "metadata": {},
   "source": [
    "Answer:\n",
    "\n",
    "Variable | Description | Type of Variable\n",
    "---| ---| ---\n",
    "admit | 1 = admitted 0 = not admitted | binary\n",
    "gre | GRE score | continuous\n",
    "gpa | Grade point average | continuous\n",
    "prestige | Prestige of undergrad (1 = highest prestige, 4 = Lowest) | categorical "
   ]
  },
  {
   "cell_type": "markdown",
   "metadata": {},
   "source": [
    "We would like to explore the association between the admit variable and the predictors gre, gpa, and prestige  "
   ]
  },
  {
   "cell_type": "markdown",
   "metadata": {},
   "source": [
    "#### 2. What is the outcome?"
   ]
  },
  {
   "cell_type": "markdown",
   "metadata": {},
   "source": [
    "Answer: admittance to program (admit variable)"
   ]
  },
  {
   "cell_type": "markdown",
   "metadata": {},
   "source": [
    "#### 3. What are the predictors/covariates? "
   ]
  },
  {
   "cell_type": "markdown",
   "metadata": {},
   "source": [
    "Answer: gre, gpa, and prestige"
   ]
  },
  {
   "cell_type": "markdown",
   "metadata": {},
   "source": [
    "#### 4. What timeframe is this data relevent for?"
   ]
  },
  {
   "cell_type": "markdown",
   "metadata": {},
   "source": [
    "Answer: NA - No information is given on the timeframe of this hypothetical data"
   ]
  },
  {
   "cell_type": "markdown",
   "metadata": {},
   "source": [
    "#### 5. What is the hypothesis?"
   ]
  },
  {
   "cell_type": "markdown",
   "metadata": {},
   "source": [
    "Answer: given data on an applicant's gre, gpa, and prestige of undergraduate program, a decent estimate of the probability of admittance to the graduate program can be obtained"
   ]
  },
  {
   "cell_type": "markdown",
   "metadata": {},
   "source": [
    "#### 6.Using the above information, write a well-formed problem statement. \n"
   ]
  },
  {
   "cell_type": "markdown",
   "metadata": {},
   "source": [
    "Answer: Determine the likelihood of admittance to a graduate program using data on a candidate's GRE score, undergraduate GPA, and the prestige of their undergraduate institution, using the UCLA admissions dataset. The dataset is made up of hypothetical data (source data can be obtained [here](https://stats.idre.ucla.edu/stat/data/binary.csv); more information available at https://stats.idre.ucla.edu/r/dae/logit-regression/)"
   ]
  },
  {
   "cell_type": "markdown",
   "metadata": {},
   "source": [
    "### Exploratory Analysis Plan"
   ]
  },
  {
   "cell_type": "markdown",
   "metadata": {},
   "source": [
    "Using the lab from a class as a guide, create an exploratory analysis plan. "
   ]
  },
  {
   "cell_type": "markdown",
   "metadata": {},
   "source": [
    "#### 1. What are the goals of the exploratory analysis? "
   ]
  },
  {
   "cell_type": "markdown",
   "metadata": {
    "collapsed": true
   },
   "source": [
    "- Explore the overall nature of our data: size of dataset, column names and data types, and if there are any null values\n",
    "- Check on frequencies (counts) for our binary and categorical variables\n",
    "- Assess the distributions of our continuous variables\n",
    "- Examine descriptive statistics of our continuous variables and remove any outliers\n",
    "\n",
    "Overall, the goal of the exploratory analysis is to get a good overall picture of the data we are working with"
   ]
  },
  {
   "cell_type": "markdown",
   "metadata": {},
   "source": [
    "#### 2a. What are the assumptions of the distribution of data? "
   ]
  },
  {
   "cell_type": "markdown",
   "metadata": {},
   "source": [
    "Answer: We are assuming the continuous variables in our dataset (gre and gpa) are approximately normal"
   ]
  },
  {
   "cell_type": "markdown",
   "metadata": {},
   "source": [
    "#### 2b. How will determine the distribution of your data? "
   ]
  },
  {
   "cell_type": "markdown",
   "metadata": {
    "collapsed": true
   },
   "source": [
    "Answer: The easiest way is to simply plot histograms of these variables"
   ]
  },
  {
   "cell_type": "code",
   "execution_count": 4,
   "metadata": {},
   "outputs": [
    {
     "data": {
      "text/plain": [
       "<matplotlib.axes._subplots.AxesSubplot at 0x1c12274410>"
      ]
     },
     "execution_count": 4,
     "metadata": {},
     "output_type": "execute_result"
    },
    {
     "data": {
      "image/png": "[encoded data removed]",
      "text/plain": [
       "<matplotlib.figure.Figure at 0x10df39c10>"
      ]
     },
     "metadata": {},
     "output_type": "display_data"
    }
   ],
   "source": [
    "df['gpa'].plot.hist()"
   ]
  },
  {
   "cell_type": "code",
   "execution_count": 5,
   "metadata": {},
   "outputs": [
    {
     "data": {
      "text/plain": [
       "<matplotlib.axes._subplots.AxesSubplot at 0x1c172c3bd0>"
      ]
     },
     "execution_count": 5,
     "metadata": {},
     "output_type": "execute_result"
    },
    {
     "data": {
      "image/png": "[encoded data removed]",
      "text/plain": [
       "<matplotlib.figure.Figure at 0x1c172e16d0>"
      ]
     },
     "metadata": {},
     "output_type": "display_data"
    }
   ],
   "source": [
    "df['gre'].plot.hist()"
   ]
  },
  {
   "cell_type": "markdown",
   "metadata": {},
   "source": [
    "Indeed, these two variables' distributions are relatively normal (though gpa is skewed slightly left and seems almost bimodal because of what looks like a large count of 4.0 gpas, it still roughly resembles the normal distribution, and we're going to treat this variable as if it were normal in our analysis)."
   ]
  },
  {
   "cell_type": "markdown",
   "metadata": {},
   "source": [
    "#### 3a. How might outliers impact your analysis? "
   ]
  },
  {
   "cell_type": "markdown",
   "metadata": {
    "collapsed": true
   },
   "source": [
    "Answer: While logistic regression is considered somewhat robust to influence from outliers, if there are outliers that are significantly influencing the model, we could expect errors in both our coefficient estimates and any inferences made from our analysis.\n",
    "\n",
    "It is worth noting, before even checking for outliers, that both of our continuous variables are bounded (gpa will be between 0 and 4, gre maximum is at 800), so the risk of extreme outliers influencing our model appears relatively small."
   ]
  },
  {
   "cell_type": "markdown",
   "metadata": {},
   "source": [
    "#### 3b. How will you test for outliers? "
   ]
  },
  {
   "cell_type": "markdown",
   "metadata": {},
   "source": [
    "Answer: An outlier for the gre and gpa variables will be defined as an observation that is more than 2 standard deviations from the mean value of said variable."
   ]
  },
  {
   "cell_type": "markdown",
   "metadata": {},
   "source": [
    "#### 4a. What is collinearity? "
   ]
  },
  {
   "cell_type": "markdown",
   "metadata": {
    "collapsed": true
   },
   "source": [
    "Answer: Collinearity occurs when there are high correlations between predictor variables. This can create numerous problems for our analysis, the chief one stated well on [Wikipedia](https://en.wikipedia.org/wiki/Multicollinearity#Remedies_for_multicollinearity):\n",
    "\n",
    ">In the presence of multicollinearity, the estimate of one variable's impact on the dependent variable Y while controlling for the others tends to be less precise than if predictors were uncorrelated with one another. The usual interpretation of a regression coefficient is that it provides an estimate of the effect of a one unit change in an independent variable, X_1, holding the other variables constant. If X_1 is highly correlated with another independent variable, X_2, in the given data set, then we have a set of observations for which X_1 and X_2 have a particular linear stochastic relationship. We don't have a set of observations for which all changes in X_1 are independent of changes in X_2, so we have an imprecise estimate of the effect of independent changes in X_1.\n",
    "\n",
    "In the simplest terms, collinearity in our data would result in innacurate estimates of the effect each of our predictor variables have on the outcome variable because the predictor variables would not be independent of one another."
   ]
  },
  {
   "cell_type": "markdown",
   "metadata": {},
   "source": [
    "#### 4b. How will you test for colinearity? "
   ]
  },
  {
   "cell_type": "markdown",
   "metadata": {},
   "source": [
    "Answer: There are multiple ways to check for collinearity. A few useful things to do in this analysis to test/correct for collinearity would be:\n",
    "1. Check if the standard errors of our predictor coefficients are large\n",
    "2. Make sure all categorical variables included in our model have been correctly coded as dummy variables, and do not include all categories (avoiding the \"dummy variable trap\")\n",
    "3. Cross-validate: take two independent subsets of our data, build the model on one subset, and confirm predictions are valid for the second subset\n",
    "4. Try dropping variables from our model and see how that affects predictive power, as well as what effect that has on other predictor's coefficients and standard errors "
   ]
  },
  {
   "cell_type": "markdown",
   "metadata": {},
   "source": [
    "#### 5. What is your exploratory analysis plan?\n",
    "Using the above information, write an exploratory analysis plan that would allow you or a colleague to reproduce your analysis 1 year from now. "
   ]
  },
  {
   "cell_type": "markdown",
   "metadata": {},
   "source": [
    "#### 1. Set *all* things we possibly can to be equal. This means:\n",
    " - Make the dataset used in this exploratory analysis readily available to person reproducing our work\n",
    " - Note all versions of tools we are using to run this analysis (Python version number as well as the version number of any libraries utilized)\n",
    " - Set the seed early and obviously in the code that is to be reproduced\n",
    "\n",
    "\n",
    "#### 2. Follow these steps for the exploratory data analysis:\n",
    " 1. Assess the overall structure of our data (column names, datatypes, number of observations)\n",
    " 2. Check data for null values; remove any incomplete observations\n",
    " 3. Return count and frequency data for our binary/categorical variables\n",
    " 4. Create histograms for continuous variables to assess their distributions\n",
    " 5. Check for any outliers in continuous variables (+/- 2 standard deviations from the mean); remove any outliers\n",
    " 6. Create dummy variable for any predictors that are categorical (prestige in this case)\n",
    " 7. Run logistic regression on our outcome variable (admit) using gre, gpa, and prestige as predictors\n"
   ]
  },
  {
   "cell_type": "markdown",
   "metadata": {},
   "source": [
    "## Bonus Questions:\n",
    "### 1. Outline your analysis method for predicting your outcome"
   ]
  },
  {
   "cell_type": "markdown",
   "metadata": {},
   "source": [
    "Answer: Analysis method will be logistic regression with admit as the outcome variable and gre, gpa, and prestige as the covariates/predictors.\n",
    "\n",
    "Let's just go ahead and build it (working with help from the [yhat tutorial](http://blog.yhat.com/posts/logistic-regression-and-python.html) on logistic regression)"
   ]
  },
  {
   "cell_type": "code",
   "execution_count": 6,
   "metadata": {},
   "outputs": [
    {
     "data": {
      "text/plain": [
       "(400, 4)"
      ]
     },
     "execution_count": 6,
     "metadata": {},
     "output_type": "execute_result"
    }
   ],
   "source": [
    "# First some real quick descriptives and exploratory data analysis\n",
    "\n",
    "# Size of our df\n",
    "df.shape"
   ]
  },
  {
   "cell_type": "markdown",
   "metadata": {},
   "source": [
    "So 400 observations of 4 variables"
   ]
  },
  {
   "cell_type": "code",
   "execution_count": 7,
   "metadata": {},
   "outputs": [
    {
     "data": {
      "text/plain": [
       "['admit', 'gre', 'gpa', 'prestige']"
      ]
     },
     "execution_count": 7,
     "metadata": {},
     "output_type": "execute_result"
    }
   ],
   "source": [
    "# Let's see what those variables are\n",
    "\n",
    "list(df.columns)"
   ]
  },
  {
   "cell_type": "code",
   "execution_count": 8,
   "metadata": {},
   "outputs": [
    {
     "data": {
      "text/plain": [
       "admit         int64\n",
       "gre         float64\n",
       "gpa         float64\n",
       "prestige    float64\n",
       "dtype: object"
      ]
     },
     "execution_count": 8,
     "metadata": {},
     "output_type": "execute_result"
    }
   ],
   "source": [
    "# And the data types\n",
    "df.dtypes"
   ]
  },
  {
   "cell_type": "code",
   "execution_count": 9,
   "metadata": {},
   "outputs": [
    {
     "data": {
      "text/plain": [
       "admit       0\n",
       "gre         2\n",
       "gpa         2\n",
       "prestige    1\n",
       "dtype: int64"
      ]
     },
     "execution_count": 9,
     "metadata": {},
     "output_type": "execute_result"
    }
   ],
   "source": [
    "# Any null values in our dataset?\n",
    "\n",
    "df.isnull().sum()"
   ]
  },
  {
   "cell_type": "markdown",
   "metadata": {},
   "source": [
    "A few, let's go ahead and get rid of any observations with null values"
   ]
  },
  {
   "cell_type": "code",
   "execution_count": 10,
   "metadata": {},
   "outputs": [
    {
     "data": {
      "text/plain": [
       "(397, 4)"
      ]
     },
     "execution_count": 10,
     "metadata": {},
     "output_type": "execute_result"
    }
   ],
   "source": [
    "df.dropna(axis = 0, how = 'any', inplace = True)\n",
    "df.shape"
   ]
  },
  {
   "cell_type": "code",
   "execution_count": 11,
   "metadata": {},
   "outputs": [
    {
     "data": {
      "text/html": [
       "<div>\n",
       "<style>\n",
       "    .dataframe thead tr:only-child th {\n",
       "        text-align: right;\n",
       "    }\n",
       "\n",
       "    .dataframe thead th {\n",
       "        text-align: left;\n",
       "    }\n",
       "\n",
       "    .dataframe tbody tr th {\n",
       "        vertical-align: top;\n",
       "    }\n",
       "</style>\n",
       "<table border=\"1\" class=\"dataframe\">\n",
       "  <thead>\n",
       "    <tr style=\"text-align: right;\">\n",
       "      <th>prestige</th>\n",
       "      <th>1.0</th>\n",
       "      <th>2.0</th>\n",
       "      <th>3.0</th>\n",
       "      <th>4.0</th>\n",
       "      <th>All</th>\n",
       "    </tr>\n",
       "    <tr>\n",
       "      <th>admit</th>\n",
       "      <th></th>\n",
       "      <th></th>\n",
       "      <th></th>\n",
       "      <th></th>\n",
       "      <th></th>\n",
       "    </tr>\n",
       "  </thead>\n",
       "  <tbody>\n",
       "    <tr>\n",
       "      <th>0</th>\n",
       "      <td>28</td>\n",
       "      <td>95</td>\n",
       "      <td>93</td>\n",
       "      <td>55</td>\n",
       "      <td>271</td>\n",
       "    </tr>\n",
       "    <tr>\n",
       "      <th>1</th>\n",
       "      <td>33</td>\n",
       "      <td>53</td>\n",
       "      <td>28</td>\n",
       "      <td>12</td>\n",
       "      <td>126</td>\n",
       "    </tr>\n",
       "    <tr>\n",
       "      <th>All</th>\n",
       "      <td>61</td>\n",
       "      <td>148</td>\n",
       "      <td>121</td>\n",
       "      <td>67</td>\n",
       "      <td>397</td>\n",
       "    </tr>\n",
       "  </tbody>\n",
       "</table>\n",
       "</div>"
      ],
      "text/plain": [
       "prestige  1.0  2.0  3.0  4.0  All\n",
       "admit                            \n",
       "0          28   95   93   55  271\n",
       "1          33   53   28   12  126\n",
       "All        61  148  121   67  397"
      ]
     },
     "execution_count": 11,
     "metadata": {},
     "output_type": "execute_result"
    }
   ],
   "source": [
    "# Let's see some frequency data of admittance rates by school prestige\n",
    "pd.crosstab(df['admit'], df['prestige'], margins = True)"
   ]
  },
  {
   "cell_type": "code",
   "execution_count": 12,
   "metadata": {},
   "outputs": [
    {
     "data": {
      "text/html": [
       "<div>\n",
       "<style>\n",
       "    .dataframe thead tr:only-child th {\n",
       "        text-align: right;\n",
       "    }\n",
       "\n",
       "    .dataframe thead th {\n",
       "        text-align: left;\n",
       "    }\n",
       "\n",
       "    .dataframe tbody tr th {\n",
       "        vertical-align: top;\n",
       "    }\n",
       "</style>\n",
       "<table border=\"1\" class=\"dataframe\">\n",
       "  <thead>\n",
       "    <tr style=\"text-align: right;\">\n",
       "      <th></th>\n",
       "      <th>count</th>\n",
       "      <th>mean</th>\n",
       "      <th>std</th>\n",
       "      <th>min</th>\n",
       "      <th>25%</th>\n",
       "      <th>50%</th>\n",
       "      <th>75%</th>\n",
       "      <th>max</th>\n",
       "    </tr>\n",
       "  </thead>\n",
       "  <tbody>\n",
       "    <tr>\n",
       "      <th>gre</th>\n",
       "      <td>397.0</td>\n",
       "      <td>587.858942</td>\n",
       "      <td>115.717787</td>\n",
       "      <td>220.00</td>\n",
       "      <td>520.00</td>\n",
       "      <td>580.0</td>\n",
       "      <td>660.00</td>\n",
       "      <td>800.0</td>\n",
       "    </tr>\n",
       "    <tr>\n",
       "      <th>gpa</th>\n",
       "      <td>397.0</td>\n",
       "      <td>3.392242</td>\n",
       "      <td>0.380208</td>\n",
       "      <td>2.26</td>\n",
       "      <td>3.13</td>\n",
       "      <td>3.4</td>\n",
       "      <td>3.67</td>\n",
       "      <td>4.0</td>\n",
       "    </tr>\n",
       "  </tbody>\n",
       "</table>\n",
       "</div>"
      ],
      "text/plain": [
       "     count        mean         std     min     25%    50%     75%    max\n",
       "gre  397.0  587.858942  115.717787  220.00  520.00  580.0  660.00  800.0\n",
       "gpa  397.0    3.392242    0.380208    2.26    3.13    3.4    3.67    4.0"
      ]
     },
     "execution_count": 12,
     "metadata": {},
     "output_type": "execute_result"
    }
   ],
   "source": [
    "# Now let's check descriptives for our continuous variables\n",
    "df[['gre', 'gpa']].describe().T"
   ]
  },
  {
   "cell_type": "code",
   "execution_count": 13,
   "metadata": {},
   "outputs": [
    {
     "name": "stdout",
     "output_type": "stream",
     "text": [
      "Means (gre, gpa): 587.858942065 3.3922418136\n",
      "Stds (gre, gpa): 115.717787375 0.380208292149\n"
     ]
    }
   ],
   "source": [
    "# And check for outliers (we'll use 2 standard deviations from the mean)\n",
    "mean_gre, mean_gpa = df[['gre', 'gpa']].mean()\n",
    "std_gre, std_gpa = df[['gre', 'gpa']].std()\n",
    "\n",
    "print \"Means (gre, gpa):\", mean_gre, mean_gpa\n",
    "print \"Stds (gre, gpa):\", std_gre, std_gpa"
   ]
  },
  {
   "cell_type": "code",
   "execution_count": 14,
   "metadata": {},
   "outputs": [
    {
     "name": "stdout",
     "output_type": "stream",
     "text": [
      "GRE range: 356.423367315 to 819.294516816\n",
      "GPA range: 2.6318252293 to 4.1526583979\n"
     ]
    }
   ],
   "source": [
    "gre_lo = mean_gre - (2 * std_gre)\n",
    "gre_hi = mean_gre + (2 * std_gre)\n",
    "\n",
    "gpa_lo = mean_gpa - (2 * std_gpa)\n",
    "gpa_hi = mean_gpa + (2 * std_gpa)\n",
    "\n",
    "print \"GRE range:\", gre_lo, \"to\", gre_hi\n",
    "print \"GPA range:\", gpa_lo, \"to\", gpa_hi"
   ]
  },
  {
   "cell_type": "code",
   "execution_count": 15,
   "metadata": {},
   "outputs": [
    {
     "data": {
      "text/plain": [
       "(379, 4)"
      ]
     },
     "execution_count": 15,
     "metadata": {},
     "output_type": "execute_result"
    }
   ],
   "source": [
    "# Looks like we've got a few outliers at the low ends. Let's drop them\n",
    "df = df[(df['gre'] > 356.0) & (df['gpa'] > 2.63)]\n",
    "df.shape"
   ]
  },
  {
   "cell_type": "code",
   "execution_count": 16,
   "metadata": {
    "scrolled": true
   },
   "outputs": [
    {
     "data": {
      "text/plain": [
       "array([[<matplotlib.axes._subplots.AxesSubplot object at 0x1c17323790>,\n",
       "        <matplotlib.axes._subplots.AxesSubplot object at 0x1c19974c90>],\n",
       "       [<matplotlib.axes._subplots.AxesSubplot object at 0x1c199a13d0>,\n",
       "        <matplotlib.axes._subplots.AxesSubplot object at 0x1c19a08990>]], dtype=object)"
      ]
     },
     "execution_count": 16,
     "metadata": {},
     "output_type": "execute_result"
    },
    {
     "data": {
      "image/png": "[encoded data removed]",
      "text/plain": [
       "<matplotlib.figure.Figure at 0x1c19898150>"
      ]
     },
     "metadata": {},
     "output_type": "display_data"
    }
   ],
   "source": [
    "# Let's take a quick look at our data distros\n",
    "df.hist(figsize = (10, 10))"
   ]
  },
  {
   "cell_type": "code",
   "execution_count": 17,
   "metadata": {},
   "outputs": [
    {
     "data": {
      "text/html": [
       "<div>\n",
       "<style>\n",
       "    .dataframe thead tr:only-child th {\n",
       "        text-align: right;\n",
       "    }\n",
       "\n",
       "    .dataframe thead th {\n",
       "        text-align: left;\n",
       "    }\n",
       "\n",
       "    .dataframe tbody tr th {\n",
       "        vertical-align: top;\n",
       "    }\n",
       "</style>\n",
       "<table border=\"1\" class=\"dataframe\">\n",
       "  <thead>\n",
       "    <tr style=\"text-align: right;\">\n",
       "      <th></th>\n",
       "      <th>prestige_1.0</th>\n",
       "      <th>prestige_2.0</th>\n",
       "      <th>prestige_3.0</th>\n",
       "      <th>prestige_4.0</th>\n",
       "    </tr>\n",
       "  </thead>\n",
       "  <tbody>\n",
       "    <tr>\n",
       "      <th>0</th>\n",
       "      <td>0</td>\n",
       "      <td>0</td>\n",
       "      <td>1</td>\n",
       "      <td>0</td>\n",
       "    </tr>\n",
       "    <tr>\n",
       "      <th>1</th>\n",
       "      <td>0</td>\n",
       "      <td>0</td>\n",
       "      <td>1</td>\n",
       "      <td>0</td>\n",
       "    </tr>\n",
       "    <tr>\n",
       "      <th>2</th>\n",
       "      <td>1</td>\n",
       "      <td>0</td>\n",
       "      <td>0</td>\n",
       "      <td>0</td>\n",
       "    </tr>\n",
       "    <tr>\n",
       "      <th>3</th>\n",
       "      <td>0</td>\n",
       "      <td>0</td>\n",
       "      <td>0</td>\n",
       "      <td>1</td>\n",
       "    </tr>\n",
       "    <tr>\n",
       "      <th>4</th>\n",
       "      <td>0</td>\n",
       "      <td>0</td>\n",
       "      <td>0</td>\n",
       "      <td>1</td>\n",
       "    </tr>\n",
       "  </tbody>\n",
       "</table>\n",
       "</div>"
      ],
      "text/plain": [
       "   prestige_1.0  prestige_2.0  prestige_3.0  prestige_4.0\n",
       "0             0             0             1             0\n",
       "1             0             0             1             0\n",
       "2             1             0             0             0\n",
       "3             0             0             0             1\n",
       "4             0             0             0             1"
      ]
     },
     "execution_count": 17,
     "metadata": {},
     "output_type": "execute_result"
    }
   ],
   "source": [
    "# Now to build a logistic regression model. First create a dummy variable for prestige and join back into data\n",
    "prestige_dummy = pd.get_dummies(df['prestige'], prefix='prestige')\n",
    "prestige_dummy.head()"
   ]
  },
  {
   "cell_type": "code",
   "execution_count": 18,
   "metadata": {},
   "outputs": [
    {
     "data": {
      "text/html": [
       "<div>\n",
       "<style>\n",
       "    .dataframe thead tr:only-child th {\n",
       "        text-align: right;\n",
       "    }\n",
       "\n",
       "    .dataframe thead th {\n",
       "        text-align: left;\n",
       "    }\n",
       "\n",
       "    .dataframe tbody tr th {\n",
       "        vertical-align: top;\n",
       "    }\n",
       "</style>\n",
       "<table border=\"1\" class=\"dataframe\">\n",
       "  <thead>\n",
       "    <tr style=\"text-align: right;\">\n",
       "      <th></th>\n",
       "      <th>admit</th>\n",
       "      <th>gre</th>\n",
       "      <th>gpa</th>\n",
       "      <th>prestige_2.0</th>\n",
       "      <th>prestige_3.0</th>\n",
       "      <th>prestige_4.0</th>\n",
       "    </tr>\n",
       "  </thead>\n",
       "  <tbody>\n",
       "    <tr>\n",
       "      <th>0</th>\n",
       "      <td>0</td>\n",
       "      <td>380.0</td>\n",
       "      <td>3.61</td>\n",
       "      <td>0</td>\n",
       "      <td>1</td>\n",
       "      <td>0</td>\n",
       "    </tr>\n",
       "    <tr>\n",
       "      <th>1</th>\n",
       "      <td>1</td>\n",
       "      <td>660.0</td>\n",
       "      <td>3.67</td>\n",
       "      <td>0</td>\n",
       "      <td>1</td>\n",
       "      <td>0</td>\n",
       "    </tr>\n",
       "    <tr>\n",
       "      <th>2</th>\n",
       "      <td>1</td>\n",
       "      <td>800.0</td>\n",
       "      <td>4.00</td>\n",
       "      <td>0</td>\n",
       "      <td>0</td>\n",
       "      <td>0</td>\n",
       "    </tr>\n",
       "    <tr>\n",
       "      <th>3</th>\n",
       "      <td>1</td>\n",
       "      <td>640.0</td>\n",
       "      <td>3.19</td>\n",
       "      <td>0</td>\n",
       "      <td>0</td>\n",
       "      <td>1</td>\n",
       "    </tr>\n",
       "    <tr>\n",
       "      <th>4</th>\n",
       "      <td>0</td>\n",
       "      <td>520.0</td>\n",
       "      <td>2.93</td>\n",
       "      <td>0</td>\n",
       "      <td>0</td>\n",
       "      <td>1</td>\n",
       "    </tr>\n",
       "  </tbody>\n",
       "</table>\n",
       "</div>"
      ],
      "text/plain": [
       "   admit    gre   gpa  prestige_2.0  prestige_3.0  prestige_4.0\n",
       "0      0  380.0  3.61             0             1             0\n",
       "1      1  660.0  3.67             0             1             0\n",
       "2      1  800.0  4.00             0             0             0\n",
       "3      1  640.0  3.19             0             0             1\n",
       "4      0  520.0  2.93             0             0             1"
      ]
     },
     "execution_count": 18,
     "metadata": {},
     "output_type": "execute_result"
    }
   ],
   "source": [
    "# Join the columns we want from df and dummy (dropping original prestige as well as 'prestige_1' dummy)\n",
    "df_full = df[['admit', 'gre', 'gpa']].join(prestige_dummy.loc[:, 'prestige_2':])\n",
    "df_full.head()"
   ]
  },
  {
   "cell_type": "code",
   "execution_count": 19,
   "metadata": {},
   "outputs": [
    {
     "data": {
      "text/html": [
       "<div>\n",
       "<style>\n",
       "    .dataframe thead tr:only-child th {\n",
       "        text-align: right;\n",
       "    }\n",
       "\n",
       "    .dataframe thead th {\n",
       "        text-align: left;\n",
       "    }\n",
       "\n",
       "    .dataframe tbody tr th {\n",
       "        vertical-align: top;\n",
       "    }\n",
       "</style>\n",
       "<table border=\"1\" class=\"dataframe\">\n",
       "  <thead>\n",
       "    <tr style=\"text-align: right;\">\n",
       "      <th></th>\n",
       "      <th>admit</th>\n",
       "      <th>gre</th>\n",
       "      <th>gpa</th>\n",
       "      <th>prestige_2.0</th>\n",
       "      <th>prestige_3.0</th>\n",
       "      <th>prestige_4.0</th>\n",
       "      <th>intercept</th>\n",
       "    </tr>\n",
       "  </thead>\n",
       "  <tbody>\n",
       "    <tr>\n",
       "      <th>0</th>\n",
       "      <td>0</td>\n",
       "      <td>380.0</td>\n",
       "      <td>3.61</td>\n",
       "      <td>0</td>\n",
       "      <td>1</td>\n",
       "      <td>0</td>\n",
       "      <td>1.0</td>\n",
       "    </tr>\n",
       "    <tr>\n",
       "      <th>1</th>\n",
       "      <td>1</td>\n",
       "      <td>660.0</td>\n",
       "      <td>3.67</td>\n",
       "      <td>0</td>\n",
       "      <td>1</td>\n",
       "      <td>0</td>\n",
       "      <td>1.0</td>\n",
       "    </tr>\n",
       "    <tr>\n",
       "      <th>2</th>\n",
       "      <td>1</td>\n",
       "      <td>800.0</td>\n",
       "      <td>4.00</td>\n",
       "      <td>0</td>\n",
       "      <td>0</td>\n",
       "      <td>0</td>\n",
       "      <td>1.0</td>\n",
       "    </tr>\n",
       "    <tr>\n",
       "      <th>3</th>\n",
       "      <td>1</td>\n",
       "      <td>640.0</td>\n",
       "      <td>3.19</td>\n",
       "      <td>0</td>\n",
       "      <td>0</td>\n",
       "      <td>1</td>\n",
       "      <td>1.0</td>\n",
       "    </tr>\n",
       "    <tr>\n",
       "      <th>4</th>\n",
       "      <td>0</td>\n",
       "      <td>520.0</td>\n",
       "      <td>2.93</td>\n",
       "      <td>0</td>\n",
       "      <td>0</td>\n",
       "      <td>1</td>\n",
       "      <td>1.0</td>\n",
       "    </tr>\n",
       "  </tbody>\n",
       "</table>\n",
       "</div>"
      ],
      "text/plain": [
       "   admit    gre   gpa  prestige_2.0  prestige_3.0  prestige_4.0  intercept\n",
       "0      0  380.0  3.61             0             1             0        1.0\n",
       "1      1  660.0  3.67             0             1             0        1.0\n",
       "2      1  800.0  4.00             0             0             0        1.0\n",
       "3      1  640.0  3.19             0             0             1        1.0\n",
       "4      0  520.0  2.93             0             0             1        1.0"
      ]
     },
     "execution_count": 19,
     "metadata": {},
     "output_type": "execute_result"
    }
   ],
   "source": [
    "# And create an intercept for some reason (apparently a requirement of statsmodels is explicitly stated intercepts/constants)\n",
    "df_full['intercept'] = 1.0\n",
    "df_full.head()"
   ]
  },
  {
   "cell_type": "code",
   "execution_count": 20,
   "metadata": {},
   "outputs": [
    {
     "name": "stdout",
     "output_type": "stream",
     "text": [
      "Optimization terminated successfully.\n",
      "         Current function value: 0.578581\n",
      "         Iterations 5\n"
     ]
    }
   ],
   "source": [
    "# Fit the model\n",
    "\n",
    "train_cols = df_full.columns[1:] # This is all cols except admit\n",
    "\n",
    "logit = sm.Logit(df_full['admit'], df_full[train_cols]) # Note to self: the syntax here\n",
    "\n",
    "model = logit.fit()"
   ]
  },
  {
   "cell_type": "code",
   "execution_count": 21,
   "metadata": {},
   "outputs": [
    {
     "name": "stdout",
     "output_type": "stream",
     "text": [
      "                           Logit Regression Results                           \n",
      "==============================================================================\n",
      "Dep. Variable:                  admit   No. Observations:                  379\n",
      "Model:                          Logit   Df Residuals:                      373\n",
      "Method:                           MLE   Df Model:                            5\n",
      "Date:                Thu, 01 Feb 2018   Pseudo R-squ.:                 0.07912\n",
      "Time:                        15:58:46   Log-Likelihood:                -219.28\n",
      "converged:                       True   LL-Null:                       -238.12\n",
      "                                        LLR p-value:                 4.371e-07\n",
      "================================================================================\n",
      "                   coef    std err          z      P>|z|      [0.025      0.975]\n",
      "--------------------------------------------------------------------------------\n",
      "gre              0.0024      0.001      2.085      0.037       0.000       0.005\n",
      "gpa              0.8264      0.356      2.324      0.020       0.129       1.523\n",
      "prestige_2.0    -0.7295      0.326     -2.241      0.025      -1.368      -0.091\n",
      "prestige_3.0    -1.3154      0.351     -3.750      0.000      -2.003      -0.628\n",
      "prestige_4.0    -1.5238      0.424     -3.597      0.000      -2.354      -0.694\n",
      "intercept       -4.1423      1.259     -3.289      0.001      -6.611      -1.674\n",
      "================================================================================\n",
      "\n",
      "Odds Ratios\n",
      "gre             1.002385\n",
      "gpa             2.285029\n",
      "prestige_2.0    0.482139\n",
      "prestige_3.0    0.268367\n",
      "prestige_4.0    0.217873\n",
      "intercept       0.015887\n",
      "dtype: float64\n"
     ]
    }
   ],
   "source": [
    "# Now let's get all the stats\n",
    "\n",
    "print model.summary() # Produces nice table\n",
    "print\n",
    "print \"Odds Ratios\"\n",
    "print np.exp(model.params) # Gives us our odds ratios"
   ]
  },
  {
   "cell_type": "markdown",
   "metadata": {},
   "source": [
    "Now, to interpret our odds ratios for our continuous variables:\n",
    " - Both gpa and gre have odds ratios > 1; this indicates that as those variables increase, so does the probability of admittance \n",
    " - For gre, we can read this as: for each 1 point increase in one's GRE score, the odds of admittance increase by .24% (it is worth noting that since this holds for any one point difference, this relationship is exponential, rather than linear -- that is, to compare two scores that are 5 points apart, the odds of admittance for the higher score would not be low_score_odds + (5 x .0024 x low_score_odds), but rather low_score_odds x (1.0024 ^ 5)) \n",
    " - For GPA: for a 1 point increase in gpa, the odds of admittance increase by about 128%\n",
    " \n",
    "And for our categorical variable prestige, we see marked drops in odds of admittance for any rank that is not 1:\n",
    " - The odds of a canditate from a prestige \"2\" school getting admitted to the program are roughly halved (.48) from the odds of a prestige \"1\" candidate with the same gre scores and gpa\n",
    " - For prestige \"3\" and \"4\", the odds of admittance compared to a prestige \"1\" drop by about 3/4 (to .27 the odds of a prestige \"1\" admit) and 4/5 (.22) respectively"
   ]
  },
  {
   "cell_type": "code",
   "execution_count": 22,
   "metadata": {},
   "outputs": [
    {
     "data": {
      "text/html": [
       "<div>\n",
       "<style>\n",
       "    .dataframe thead tr:only-child th {\n",
       "        text-align: right;\n",
       "    }\n",
       "\n",
       "    .dataframe thead th {\n",
       "        text-align: left;\n",
       "    }\n",
       "\n",
       "    .dataframe tbody tr th {\n",
       "        vertical-align: top;\n",
       "    }\n",
       "</style>\n",
       "<table border=\"1\" class=\"dataframe\">\n",
       "  <thead>\n",
       "    <tr style=\"text-align: right;\">\n",
       "      <th></th>\n",
       "      <th>gre</th>\n",
       "      <th>gpa</th>\n",
       "      <th>prestige</th>\n",
       "    </tr>\n",
       "  </thead>\n",
       "  <tbody>\n",
       "    <tr>\n",
       "      <th>0</th>\n",
       "      <td>596.147757</td>\n",
       "      <td>3.424987</td>\n",
       "      <td>1</td>\n",
       "    </tr>\n",
       "    <tr>\n",
       "      <th>1</th>\n",
       "      <td>596.147757</td>\n",
       "      <td>3.424987</td>\n",
       "      <td>2</td>\n",
       "    </tr>\n",
       "    <tr>\n",
       "      <th>2</th>\n",
       "      <td>596.147757</td>\n",
       "      <td>3.424987</td>\n",
       "      <td>3</td>\n",
       "    </tr>\n",
       "    <tr>\n",
       "      <th>3</th>\n",
       "      <td>596.147757</td>\n",
       "      <td>3.424987</td>\n",
       "      <td>4</td>\n",
       "    </tr>\n",
       "  </tbody>\n",
       "</table>\n",
       "</div>"
      ],
      "text/plain": [
       "          gre       gpa  prestige\n",
       "0  596.147757  3.424987         1\n",
       "1  596.147757  3.424987         2\n",
       "2  596.147757  3.424987         3\n",
       "3  596.147757  3.424987         4"
      ]
     },
     "execution_count": 22,
     "metadata": {},
     "output_type": "execute_result"
    }
   ],
   "source": [
    "# For a little illustration of the impact that prestige has on probability of admittance, let's create\n",
    "# some sample data for candidates with average candidate gre scores and gpas, but each with a different \"prestige\"\n",
    "# rank for undergrad and see what our model predicts their probability of acceptance to be\n",
    "\n",
    "mean_gpa, mean_gre = df_full[['gpa', 'gre']].mean()\n",
    "\n",
    "candidates = [[mean_gre, mean_gpa, 1],     # Prestige rank \"1\" candidate\n",
    "              [mean_gre, mean_gpa, 2],     # Prestige \"2\"\n",
    "              [mean_gre, mean_gpa, 3],     # Prestige \"3\"\n",
    "              [mean_gre, mean_gpa, 4]]     # Prestige \"4\"\n",
    "\n",
    "can_df = pd.DataFrame(candidates)\n",
    "can_df.columns = [\"gre\", \"gpa\", \"prestige\"]\n",
    "\n",
    "can_df"
   ]
  },
  {
   "cell_type": "code",
   "execution_count": 23,
   "metadata": {},
   "outputs": [
    {
     "data": {
      "text/html": [
       "<div>\n",
       "<style>\n",
       "    .dataframe thead tr:only-child th {\n",
       "        text-align: right;\n",
       "    }\n",
       "\n",
       "    .dataframe thead th {\n",
       "        text-align: left;\n",
       "    }\n",
       "\n",
       "    .dataframe tbody tr th {\n",
       "        vertical-align: top;\n",
       "    }\n",
       "</style>\n",
       "<table border=\"1\" class=\"dataframe\">\n",
       "  <thead>\n",
       "    <tr style=\"text-align: right;\">\n",
       "      <th></th>\n",
       "      <th>gre</th>\n",
       "      <th>gpa</th>\n",
       "      <th>prestige_2</th>\n",
       "      <th>prestige_3</th>\n",
       "      <th>prestige_4</th>\n",
       "      <th>intercept</th>\n",
       "    </tr>\n",
       "  </thead>\n",
       "  <tbody>\n",
       "    <tr>\n",
       "      <th>0</th>\n",
       "      <td>596.147757</td>\n",
       "      <td>3.424987</td>\n",
       "      <td>0</td>\n",
       "      <td>0</td>\n",
       "      <td>0</td>\n",
       "      <td>1.0</td>\n",
       "    </tr>\n",
       "    <tr>\n",
       "      <th>1</th>\n",
       "      <td>596.147757</td>\n",
       "      <td>3.424987</td>\n",
       "      <td>1</td>\n",
       "      <td>0</td>\n",
       "      <td>0</td>\n",
       "      <td>1.0</td>\n",
       "    </tr>\n",
       "    <tr>\n",
       "      <th>2</th>\n",
       "      <td>596.147757</td>\n",
       "      <td>3.424987</td>\n",
       "      <td>0</td>\n",
       "      <td>1</td>\n",
       "      <td>0</td>\n",
       "      <td>1.0</td>\n",
       "    </tr>\n",
       "    <tr>\n",
       "      <th>3</th>\n",
       "      <td>596.147757</td>\n",
       "      <td>3.424987</td>\n",
       "      <td>0</td>\n",
       "      <td>0</td>\n",
       "      <td>1</td>\n",
       "      <td>1.0</td>\n",
       "    </tr>\n",
       "  </tbody>\n",
       "</table>\n",
       "</div>"
      ],
      "text/plain": [
       "          gre       gpa  prestige_2  prestige_3  prestige_4  intercept\n",
       "0  596.147757  3.424987           0           0           0        1.0\n",
       "1  596.147757  3.424987           1           0           0        1.0\n",
       "2  596.147757  3.424987           0           1           0        1.0\n",
       "3  596.147757  3.424987           0           0           1        1.0"
      ]
     },
     "execution_count": 23,
     "metadata": {},
     "output_type": "execute_result"
    }
   ],
   "source": [
    "# Get the data consistent to predict\n",
    "\n",
    "# Note: prestige must be \"dummified\", or there's a conflict w/ dtypes when predicting (dummy creates uint8 dtype?)\n",
    "dummy_ranks = pd.get_dummies(can_df['prestige'], prefix='prestige')\n",
    "can_df = can_df[['gre', 'gpa']].join(dummy_ranks.loc[:, 'prestige_2':])\n",
    "\n",
    "# Add intercept\n",
    "can_df['intercept'] = 1.0\n",
    "\n",
    "can_df"
   ]
  },
  {
   "cell_type": "code",
   "execution_count": 24,
   "metadata": {},
   "outputs": [
    {
     "data": {
      "text/html": [
       "<div>\n",
       "<style>\n",
       "    .dataframe thead tr:only-child th {\n",
       "        text-align: right;\n",
       "    }\n",
       "\n",
       "    .dataframe thead th {\n",
       "        text-align: left;\n",
       "    }\n",
       "\n",
       "    .dataframe tbody tr th {\n",
       "        vertical-align: top;\n",
       "    }\n",
       "</style>\n",
       "<table border=\"1\" class=\"dataframe\">\n",
       "  <thead>\n",
       "    <tr style=\"text-align: right;\">\n",
       "      <th></th>\n",
       "      <th>candidate_prestige</th>\n",
       "      <th>gre</th>\n",
       "      <th>gpa</th>\n",
       "      <th>prestige_2</th>\n",
       "      <th>prestige_3</th>\n",
       "      <th>prestige_4</th>\n",
       "      <th>intercept</th>\n",
       "      <th>admit_pred</th>\n",
       "    </tr>\n",
       "  </thead>\n",
       "  <tbody>\n",
       "    <tr>\n",
       "      <th>0</th>\n",
       "      <td>Prestige '1' Candidate</td>\n",
       "      <td>596.147757</td>\n",
       "      <td>3.424987</td>\n",
       "      <td>0</td>\n",
       "      <td>0</td>\n",
       "      <td>0</td>\n",
       "      <td>1.0</td>\n",
       "      <td>0.526955</td>\n",
       "    </tr>\n",
       "    <tr>\n",
       "      <th>1</th>\n",
       "      <td>Prestige '2' Candidate</td>\n",
       "      <td>596.147757</td>\n",
       "      <td>3.424987</td>\n",
       "      <td>1</td>\n",
       "      <td>0</td>\n",
       "      <td>0</td>\n",
       "      <td>1.0</td>\n",
       "      <td>0.349418</td>\n",
       "    </tr>\n",
       "    <tr>\n",
       "      <th>2</th>\n",
       "      <td>Prestige '3' Candidate</td>\n",
       "      <td>596.147757</td>\n",
       "      <td>3.424987</td>\n",
       "      <td>0</td>\n",
       "      <td>1</td>\n",
       "      <td>0</td>\n",
       "      <td>1.0</td>\n",
       "      <td>0.230148</td>\n",
       "    </tr>\n",
       "    <tr>\n",
       "      <th>3</th>\n",
       "      <td>Prestige '4' Candidate</td>\n",
       "      <td>596.147757</td>\n",
       "      <td>3.424987</td>\n",
       "      <td>0</td>\n",
       "      <td>0</td>\n",
       "      <td>1</td>\n",
       "      <td>1.0</td>\n",
       "      <td>0.195302</td>\n",
       "    </tr>\n",
       "  </tbody>\n",
       "</table>\n",
       "</div>"
      ],
      "text/plain": [
       "       candidate_prestige         gre       gpa  prestige_2  prestige_3  \\\n",
       "0  Prestige '1' Candidate  596.147757  3.424987           0           0   \n",
       "1  Prestige '2' Candidate  596.147757  3.424987           1           0   \n",
       "2  Prestige '3' Candidate  596.147757  3.424987           0           1   \n",
       "3  Prestige '4' Candidate  596.147757  3.424987           0           0   \n",
       "\n",
       "   prestige_4  intercept  admit_pred  \n",
       "0           0        1.0    0.526955  \n",
       "1           0        1.0    0.349418  \n",
       "2           0        1.0    0.230148  \n",
       "3           1        1.0    0.195302  "
      ]
     },
     "execution_count": 24,
     "metadata": {},
     "output_type": "execute_result"
    }
   ],
   "source": [
    "# Predict admit probability for our 4 hypothetical candidates\n",
    "can_df['admit_pred'] = model.predict(can_df.as_matrix())\n",
    "\n",
    "ranks = [\"Prestige '1' Candidate\", \"Prestige '2' Candidate\", \"Prestige '3' Candidate\", \"Prestige '4' Candidate\"]\n",
    "can_df.insert(loc = 0, column='candidate_prestige', value=ranks)\n",
    "\n",
    "can_df"
   ]
  },
  {
   "cell_type": "markdown",
   "metadata": {},
   "source": [
    "We can see from this how the probability of admittance (admit_pred) drops considerably as the prestige rank of a candidate's undergrad is lowered. These predictions also nicely illustrate the relationship between our predicted outcome (probability of admittance) and the odds ratio from our model summary.\n",
    " - The odds of admittance for a standard prestige 1 candidate are .53 / (1 - .53), or 1.13\n",
    " - The odds of admittance for a standard prestige 2 candidate are .35 / (1 - .35), or .54\n",
    " - This gives us the odds ratio (.54 / 1.13) of .48 when comparing a prestige 2 candidate with a prestige 1 candidate (and same procedure can be followed for a prestige 3 or prestige 4 candidate in comparison to prestige 1) "
   ]
  },
  {
   "cell_type": "markdown",
   "metadata": {
    "collapsed": true
   },
   "source": [
    "### 2. Write an alternative problem statement for your dataset"
   ]
  },
  {
   "cell_type": "markdown",
   "metadata": {},
   "source": [
    "Answer: Correctly categorize the prestige ranking of a candidate's undergraduate schooling from data on the individual's GRE score, GPA, and whether or not they were admitted to a graduate program, using the UCLA admissions dataset. The dataset is made up of hypothetical data (source data can be obtained [here](https://stats.idre.ucla.edu/stat/data/binary.csv); more information available at https://stats.idre.ucla.edu/r/dae/logit-regression/)"
   ]
  },
  {
   "cell_type": "markdown",
   "metadata": {},
   "source": [
    "### 3. Articulate the assumptions and risks of the alternative model"
   ]
  },
  {
   "cell_type": "markdown",
   "metadata": {},
   "source": [
    "Answer: The main assumption would be that continuous variables in our model are approximately normally distributed"
   ]
  }
 ],
 "metadata": {
  "kernelspec": {
   "display_name": "Python 2",
   "language": "python",
   "name": "python2"
  },
  "language_info": {
   "codemirror_mode": {
    "name": "ipython",
    "version": 2
   },
   "file_extension": ".py",
   "mimetype": "text/x-python",
   "name": "python",
   "nbconvert_exporter": "python",
   "pygments_lexer": "ipython2",
   "version": "2.7.14"
  }
 },
 "nbformat": 4,
 "nbformat_minor": 1
}
